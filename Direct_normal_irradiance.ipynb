{
  "cells": [
    {
      "cell_type": "markdown",
      "metadata": {
        "id": "view-in-github",
        "colab_type": "text"
      },
      "source": [
        "<a href=\"https://colab.research.google.com/github/mmh52/Solar-Project/blob/main/Direct_normal_irradiance.ipynb\" target=\"_parent\"><img src=\"https://colab.research.google.com/assets/colab-badge.svg\" alt=\"Open In Colab\"/></a>"
      ]
    },
    {
      "cell_type": "code",
      "execution_count": null,
      "metadata": {
        "id": "yxROh8wDNWnT"
      },
      "outputs": [],
      "source": [
        "import bamboolib as bam\n",
        "import pandas as pd"
      ]
    },
    {
      "cell_type": "code",
      "execution_count": null,
      "metadata": {
        "id": "GH0bt9uRNWna"
      },
      "outputs": [],
      "source": [
        "import pandas as pd\n",
        "df = pd.read_csv(r'C:\\Users\\mehed\\Desktop\\DNI.csv', sep=',', decimal='.', nrows=1000000)\n",
        "df"
      ]
    },
    {
      "cell_type": "code",
      "execution_count": null,
      "metadata": {
        "id": "qUeOpMZXNWnd"
      },
      "outputs": [],
      "source": [
        "import plotly.express as px\n",
        "fig = px.line(df.sort_values(by=['Date&Time'], ascending=[True]).sample(n=10000, replace=False, random_state=123).sort_index(), x='Date&Time', y='Direct Normal [W/m^2]')\n",
        "fig"
      ]
    },
    {
      "cell_type": "code",
      "execution_count": null,
      "metadata": {
        "id": "BQ6uQR7-NWne"
      },
      "outputs": [],
      "source": [
        "in_dir =\"C:/Users/mehed/Downloads/ \"\n",
        "import pandas as pd\n",
        "import matplotlib.pyplot as ply\n",
        "import os"
      ]
    },
    {
      "cell_type": "code",
      "execution_count": null,
      "metadata": {
        "id": "Q6dy0VGRNWnf"
      },
      "outputs": [],
      "source": [
        "os.chdir(in_dir)\n",
        "for filename in os.listdir():\n",
        "    if filename.endswith('.csv'):\n",
        "        print(filename)\n",
        "        df=pd.read_csv(\"DNI.csv\")\n",
        "    \n",
        "#         data_df=df.resample(\"15T\").mean()\n",
        "#         print(data_df)"
      ]
    },
    {
      "cell_type": "code",
      "execution_count": null,
      "metadata": {
        "id": "EO_LhxQ1NWnh"
      },
      "outputs": [],
      "source": [
        "df=pd.read_csv(\"C:/Users/mehed/Downloads/DNI.csv\")"
      ]
    },
    {
      "cell_type": "code",
      "execution_count": null,
      "metadata": {
        "id": "S7V-IQFPNWni"
      },
      "outputs": [],
      "source": [
        "df"
      ]
    },
    {
      "cell_type": "code",
      "execution_count": null,
      "metadata": {
        "id": "-XxARoM-NWnk"
      },
      "outputs": [],
      "source": [
        "# path=\"C:/Users/mehed/Downloads/\"\n",
        "# out_dir=os.path.join(path, 'DNI_15_min_data')\n",
        "# if not os.path.exists(out_dir):\n",
        "#     os.makedirs(out_dir)"
      ]
    },
    {
      "cell_type": "code",
      "execution_count": null,
      "metadata": {
        "id": "f645NLZGNWnl"
      },
      "outputs": [],
      "source": [
        "df.Time = pd.to_datetime(df.Time)"
      ]
    },
    {
      "cell_type": "code",
      "execution_count": null,
      "metadata": {
        "id": "Ol-39gbcNWnn"
      },
      "outputs": [],
      "source": [
        "df_new = df.set_index('Time').resample('H').mean()\n",
        "df_new.to_csv(r'C:/Users/mehed/Downloads/new_data.csv')"
      ]
    },
    {
      "cell_type": "code",
      "execution_count": null,
      "metadata": {
        "id": "RXsdL5dYNWno"
      },
      "outputs": [],
      "source": [
        "df_new = df_new.reset_index()\n",
        "df_new"
      ]
    },
    {
      "cell_type": "code",
      "execution_count": null,
      "metadata": {
        "id": "MyLEXoMFNWnp"
      },
      "outputs": [],
      "source": [
        "df=pd.read_csv(\"C:/Users/mehed/Downloads/new_data.csv\")"
      ]
    },
    {
      "cell_type": "code",
      "execution_count": null,
      "metadata": {
        "id": "dm-qp5XZNWnq"
      },
      "outputs": [],
      "source": [
        "df"
      ]
    },
    {
      "cell_type": "code",
      "execution_count": null,
      "metadata": {
        "id": "6l5y3BsYNWnr"
      },
      "outputs": [],
      "source": [
        "pip install ppscore"
      ]
    },
    {
      "cell_type": "code",
      "execution_count": null,
      "metadata": {
        "id": "NcB65j1CNWnr"
      },
      "outputs": [],
      "source": [
        "import pandas as pd\n",
        "import seaborn as sns\n",
        "\n",
        "import ppscore as pps"
      ]
    },
    {
      "cell_type": "code",
      "execution_count": null,
      "metadata": {
        "id": "VsJR97IZNWns"
      },
      "outputs": [],
      "source": [
        "def heatmap(df):\n",
        "    ax = sns.heatmap(df, vmin=0, vmax=1, cmap=\"Blues\", linewidths=0.7, annot=True)\n",
        "    ax.set_title('PPS matrix')\n",
        "    ax.set_xlabel('feature')\n",
        "    ax.set_ylabel('target')\n",
        "    return ax"
      ]
    },
    {
      "cell_type": "code",
      "execution_count": null,
      "metadata": {
        "id": "4D3xDYMqNWnt"
      },
      "outputs": [],
      "source": [
        "def corr_heatmap(df):\n",
        "    ax = sns.heatmap(df, vmin=-1, vmax=1, cmap=\"BrBG\", linewidths=1, annot=True)\n",
        "    ax.set_title('Correlation matrix')\n",
        "    return ax"
      ]
    },
    {
      "cell_type": "code",
      "execution_count": null,
      "metadata": {
        "id": "PP-RzlAZNWnu"
      },
      "outputs": [],
      "source": [
        "pps.predictors(df, \"Direct Normal [W/m^2]\")"
      ]
    },
    {
      "cell_type": "code",
      "execution_count": null,
      "metadata": {
        "id": "-H0564QJNWnu"
      },
      "outputs": [],
      "source": [
        "import seaborn as sns\n",
        "import matplotlib.pyplot as plt\n",
        "predictors_df = pps.predictors(df, y=\"Direct Normal [W/m^2]\")\n",
        "pic=sns.barplot(data=predictors_df, x=\"x\", y=\"ppscore\")\n",
        "pic.set_xlim(0,6)"
      ]
    },
    {
      "cell_type": "code",
      "execution_count": null,
      "metadata": {
        "id": "WWVwNfH-NWnv"
      },
      "outputs": [],
      "source": [
        "matrix = pps.matrix(df)"
      ]
    },
    {
      "cell_type": "code",
      "execution_count": null,
      "metadata": {
        "id": "MU9rbcR3NWnw"
      },
      "outputs": [],
      "source": [
        "matrix"
      ]
    },
    {
      "cell_type": "code",
      "execution_count": null,
      "metadata": {
        "id": "_bSOoSkqNWnx"
      },
      "outputs": [],
      "source": [
        "p=corr_heatmap(df.corr())\n",
        "p.set_xlim(0,16)"
      ]
    },
    {
      "cell_type": "code",
      "execution_count": null,
      "metadata": {
        "id": "PDbvodsjNWnx"
      },
      "outputs": [],
      "source": [
        "df.corr()"
      ]
    },
    {
      "cell_type": "code",
      "execution_count": null,
      "metadata": {
        "id": "fiYwLcdiNWny"
      },
      "outputs": [],
      "source": [
        "pip install --upgrade pip"
      ]
    },
    {
      "cell_type": "code",
      "execution_count": null,
      "metadata": {
        "id": "qGv9Mh9QNWnz"
      },
      "outputs": [],
      "source": [
        "df.isnull().values.any()"
      ]
    },
    {
      "cell_type": "code",
      "execution_count": null,
      "metadata": {
        "id": "iO9VNadtNWnz"
      },
      "outputs": [],
      "source": [
        "import numpy as np\n",
        "import pandas as pd\n",
        "import matplotlib.pyplot as ply\n",
        "import os"
      ]
    },
    {
      "cell_type": "code",
      "execution_count": null,
      "metadata": {
        "id": "ZlqwYZbSNWn0"
      },
      "outputs": [],
      "source": [
        "df=pd.read_csv(r'C:\\Users\\mehed\\Downloads\\DNI_Daytime\\DNI.csv')\n",
        "df"
      ]
    },
    {
      "cell_type": "code",
      "execution_count": null,
      "metadata": {
        "id": "XcidekTyNWn0"
      },
      "outputs": [],
      "source": [
        "df.info()"
      ]
    },
    {
      "cell_type": "code",
      "execution_count": null,
      "metadata": {
        "id": "2vT6ceY9NWn1"
      },
      "outputs": [],
      "source": [
        "df[\"Date\"]=pd.to_datetime(df[\"Date\"])"
      ]
    },
    {
      "cell_type": "code",
      "execution_count": null,
      "metadata": {
        "id": "vAuKw1uENWn1"
      },
      "outputs": [],
      "source": [
        "df.info()"
      ]
    },
    {
      "cell_type": "code",
      "execution_count": null,
      "metadata": {
        "id": "Oo-4rktDNWn2"
      },
      "outputs": [],
      "source": [
        "df.set_index(\"Date\",inplace=True)"
      ]
    },
    {
      "cell_type": "code",
      "execution_count": null,
      "metadata": {
        "id": "ctRa0PegNWn2"
      },
      "outputs": [],
      "source": [
        "df"
      ]
    },
    {
      "cell_type": "code",
      "execution_count": null,
      "metadata": {
        "id": "evPq2H9tNWn3"
      },
      "outputs": [],
      "source": [
        "df.resample('30T').mean()"
      ]
    },
    {
      "cell_type": "code",
      "execution_count": null,
      "metadata": {
        "id": "j0l42Y1YNWn3"
      },
      "outputs": [],
      "source": [
        "df.describe()"
      ]
    },
    {
      "cell_type": "code",
      "execution_count": null,
      "metadata": {
        "id": "2DYZcNjdNWn3"
      },
      "outputs": [],
      "source": [
        "ply.figure(figsize=(25,5))\n",
        "ply.plot(df['Direct Normal'])"
      ]
    },
    {
      "cell_type": "code",
      "execution_count": null,
      "metadata": {
        "id": "rxg_VtbkNWn4"
      },
      "outputs": [],
      "source": [
        "df.describe()"
      ]
    },
    {
      "cell_type": "code",
      "execution_count": null,
      "metadata": {
        "id": "a1vx_g5WNWn5"
      },
      "outputs": [],
      "source": [
        "import ppscore as pps"
      ]
    },
    {
      "cell_type": "code",
      "execution_count": null,
      "metadata": {
        "id": "YKxXct3_NWn5"
      },
      "outputs": [],
      "source": [
        "pps.predictors(df, \"Direct Normal\")"
      ]
    },
    {
      "cell_type": "code",
      "execution_count": null,
      "metadata": {
        "id": "KSLXckgvNWn5"
      },
      "outputs": [],
      "source": [
        "df.corr()"
      ]
    },
    {
      "cell_type": "code",
      "execution_count": null,
      "metadata": {
        "id": "i_NzxFzPNWn6"
      },
      "outputs": [],
      "source": [
        "import pandas as pd\n",
        "import glob\n",
        "import os\n",
        "\n",
        "\n",
        "# setting the path for joining multiple files\n",
        "files = os.path.join(r\"C:\\Users\\mehed\\Downloads\\DNI_Daytime\", \"DNI*.csv\")\n",
        "\n",
        "# list of merged files returned\n",
        "files = glob.glob(files)\n",
        "\n",
        "print(\"Resultant CSV after joining all CSV files at a particular location...\");\n",
        "\n",
        "# joining files with concat and read_csv\n",
        "df = pd.concat(map(pd.read_csv, files), ignore_index=True)\n",
        "print(df)"
      ]
    },
    {
      "cell_type": "code",
      "execution_count": null,
      "metadata": {
        "id": "mgi9EB_1NWn7"
      },
      "outputs": [],
      "source": [
        "df"
      ]
    },
    {
      "cell_type": "code",
      "execution_count": null,
      "metadata": {
        "id": "mXUSEOh2NWn7"
      },
      "outputs": [],
      "source": [
        "os.chdir(r\"C:\\Users\\mehed\\Downloads\\DNI_Daytime\")"
      ]
    },
    {
      "cell_type": "code",
      "execution_count": null,
      "metadata": {
        "id": "FXRML1j-NWn7"
      },
      "outputs": [],
      "source": [
        "df.to_csv( \"DNI.csv\", index=False, encoding='utf-8-sig')"
      ]
    },
    {
      "cell_type": "code",
      "execution_count": null,
      "metadata": {
        "id": "J9QTFqXWNWn8"
      },
      "outputs": [],
      "source": [
        "df_s= df['2009-05':'2009-10']"
      ]
    },
    {
      "cell_type": "code",
      "execution_count": null,
      "metadata": {
        "id": "d_dHahVuNWn8"
      },
      "outputs": [],
      "source": [
        "ply.figure(figsize=(25,5))\n",
        "ply.plot(df_s['Direct Normal'])"
      ]
    },
    {
      "cell_type": "code",
      "execution_count": null,
      "metadata": {
        "id": "NbHhf6SxNWn9"
      },
      "outputs": [],
      "source": [
        "import plotly.express as px"
      ]
    },
    {
      "cell_type": "code",
      "execution_count": null,
      "metadata": {
        "id": "TCPFhWA5NWn9"
      },
      "outputs": [],
      "source": [
        "df=pd.read_csv(r'C:\\Users\\mehed\\Downloads\\DNI_Daytime\\DNI.csv')\n",
        "fig = px.line(df, x='Date', y='Direct Normal', title='Time Series with Rangeslider')\n",
        "\n",
        "\n",
        "fig.update_xaxes(rangeslider_visible=True)\n",
        "fig.show()"
      ]
    },
    {
      "cell_type": "code",
      "execution_count": null,
      "metadata": {
        "scrolled": true,
        "id": "2H9pB-NmNWn-"
      },
      "outputs": [],
      "source": [
        "import plotly.express as px\n",
        "\n",
        "fig = px.line(df, x='Date', y='Direct Normal', title='Time Series with Range Slider and Selectors')\n",
        "\n",
        "fig.update_xaxes(\n",
        "    rangeslider_visible=True,\n",
        "    rangeselector=dict(\n",
        "        buttons=list([\n",
        "            dict(count=1, label=\"1m\", step=\"month\", stepmode=\"backward\"),\n",
        "            dict(count=6, label=\"6m\", step=\"month\", stepmode=\"backward\"),\n",
        "            dict(count=1, label=\"1y\", step=\"year\", stepmode=\"backward\"),\n",
        "            dict(step=\"all\")\n",
        "        ])\n",
        "    )\n",
        ")\n",
        "fig.show()"
      ]
    },
    {
      "cell_type": "code",
      "execution_count": null,
      "metadata": {
        "id": "BPsVH8KxNWn_"
      },
      "outputs": [],
      "source": [
        "import pandas as pd\n",
        "import glob\n",
        "import os\n",
        "\n",
        "\n",
        "# setting the path for joining multiple files\n",
        "files = os.path.join(r\"C:\\Users\\mehed\\Downloads\\DNI_AllDay\", \"ADNI*.csv\")\n",
        "\n",
        "# list of merged files returned\n",
        "files = glob.glob(files)\n",
        "\n",
        "print(\"Resultant CSV after joining all CSV files at a particular location...\");\n",
        "\n",
        "# joining files with concat and read_csv\n",
        "df = pd.concat(map(pd.read_csv, files), ignore_index=True)\n",
        "print(df)"
      ]
    },
    {
      "cell_type": "code",
      "execution_count": null,
      "metadata": {
        "id": "_fojYQHMNWn_"
      },
      "outputs": [],
      "source": [
        "os.chdir(r\"C:\\Users\\mehed\\Downloads\\DNI_AllDay\")"
      ]
    },
    {
      "cell_type": "code",
      "execution_count": null,
      "metadata": {
        "id": "4U6JznFCNWn_"
      },
      "outputs": [],
      "source": [
        "df.to_csv( \"DNI_allday.csv\", index=False, encoding='utf-8-sig')"
      ]
    },
    {
      "cell_type": "code",
      "execution_count": null,
      "metadata": {
        "id": "0GMfk15fNWoA"
      },
      "outputs": [],
      "source": [
        ""
      ]
    }
  ],
  "metadata": {
    "kernelspec": {
      "display_name": "Python 3",
      "language": "python",
      "name": "python3"
    },
    "language_info": {
      "codemirror_mode": {
        "name": "ipython",
        "version": 3
      },
      "file_extension": ".py",
      "mimetype": "text/x-python",
      "name": "python",
      "nbconvert_exporter": "python",
      "pygments_lexer": "ipython3",
      "version": "3.7.4"
    },
    "colab": {
      "name": "Direct normal irradiance.ipynb",
      "provenance": [],
      "collapsed_sections": [],
      "include_colab_link": true
    }
  },
  "nbformat": 4,
  "nbformat_minor": 0
}